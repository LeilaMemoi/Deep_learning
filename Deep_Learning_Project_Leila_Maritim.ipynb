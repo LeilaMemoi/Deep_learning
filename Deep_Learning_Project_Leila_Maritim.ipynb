{
  "nbformat": 4,
  "nbformat_minor": 0,
  "metadata": {
    "colab": {
      "provenance": [],
      "mount_file_id": "1_Km84hdytnVKSYi6OFt-w9KE1diic9Lg",
      "authorship_tag": "ABX9TyMbEHKSVL/Vr3Pyqhy08fV6",
      "include_colab_link": true
    },
    "kernelspec": {
      "name": "python3",
      "display_name": "Python 3"
    },
    "language_info": {
      "name": "python"
    }
  },
  "cells": [
    {
      "cell_type": "markdown",
      "metadata": {
        "id": "view-in-github",
        "colab_type": "text"
      },
      "source": [
        "<a href=\"https://colab.research.google.com/github/LeilaMemoi/Deep_learning/blob/main/Deep_Learning_Project_Leila_Maritim.ipynb\" target=\"_parent\"><img src=\"https://colab.research.google.com/assets/colab-badge.svg\" alt=\"Open In Colab\"/></a>"
      ]
    },
    {
      "cell_type": "code",
      "execution_count": null,
      "metadata": {
        "id": "BCow3zyA95OD"
      },
      "outputs": [],
      "source": []
    },
    {
      "cell_type": "markdown",
      "source": [],
      "metadata": {
        "id": "t9mCseZbCAiC"
      }
    },
    {
      "cell_type": "markdown",
      "source": [
        ">[DATA](#folderId=1Op6xQrUVNJeBqCu5L-qFKjH5IiLQbb3O&updateTitle=true&scrollTo=qwI6OYWr_Eg0)\n",
        "\n",
        ">>[Dataset loading](#folderId=1Op6xQrUVNJeBqCu5L-qFKjH5IiLQbb3O&updateTitle=true&scrollTo=Ow1GTx1Y-Kq0)\n",
        "\n",
        ">>[Dataset characteristics](#folderId=1Op6xQrUVNJeBqCu5L-qFKjH5IiLQbb3O&updateTitle=true&scrollTo=aKuckj75-5kn)\n",
        "\n",
        ">[DEEP LEARNING MODELS](#folderId=1Op6xQrUVNJeBqCu5L-qFKjH5IiLQbb3O&updateTitle=true&scrollTo=KNeKDJuy_uQu)\n",
        "\n",
        ">>[Multi-layer perceptron](#folderId=1Op6xQrUVNJeBqCu5L-qFKjH5IiLQbb3O&updateTitle=true&scrollTo=UdOMv3WQAD9o)\n",
        "\n",
        ">>[1-D Convolutional neural network](#folderId=1Op6xQrUVNJeBqCu5L-qFKjH5IiLQbb3O&updateTitle=true&scrollTo=TBBG35E9ANtu)\n",
        "\n",
        ">>[Recurrent neural networks](#folderId=1Op6xQrUVNJeBqCu5L-qFKjH5IiLQbb3O&updateTitle=true&scrollTo=cf2fxeSFAX42)\n",
        "\n",
        ">[CONCLUSION](#folderId=1Op6xQrUVNJeBqCu5L-qFKjH5IiLQbb3O&updateTitle=true&scrollTo=UpCJe8f0BUO_)\n",
        "\n",
        ">[REFERENCES](#folderId=1Op6xQrUVNJeBqCu5L-qFKjH5IiLQbb3O&updateTitle=true&scrollTo=BERD7oA3ByWT)\n",
        "\n"
      ],
      "metadata": {
        "colab_type": "toc",
        "id": "7XVOKHNIB9Ij"
      }
    },
    {
      "cell_type": "markdown",
      "source": [
        "# DATA"
      ],
      "metadata": {
        "id": "qwI6OYWr_Eg0"
      }
    },
    {
      "cell_type": "markdown",
      "source": [
        "## 1. Dataset loading\n",
        "\n",
        "Write a customized dataset class to read and pre-process the data\n",
        "\n",
        "\n",
        "\n",
        "\n"
      ],
      "metadata": {
        "id": "Ow1GTx1Y-Kq0"
      }
    },
    {
      "cell_type": "code",
      "source": [
        "import numpy as np"
      ],
      "metadata": {
        "id": "hVwQqZgZ4Rrf"
      },
      "execution_count": 1,
      "outputs": []
    },
    {
      "cell_type": "code",
      "source": [
        "\n",
        "data = np.load(os.path.join(data_CDE_dir, \"data_AT1.npz\"), allow_pickle=True)\n",
        "series = data[’series’] # time series (m,l,d) where m is the number of time series in a given domain,\n",
        "## l is the length of the time series, and d is the number of channels in the image\n",
        "labels = data[’labels’] # label associated with each time series\n",
        "dates = data[’dates’] # acquisition dates (datetime package)\n",
        "class_names = data[’class_names’] # names of the class"
      ],
      "metadata": {
        "id": "6oCjMEp-4P7A"
      },
      "execution_count": null,
      "outputs": []
    },
    {
      "cell_type": "markdown",
      "source": [
        "## 2. Dataset characteristics\n",
        "\n",
        "*   What is the learning task?\n",
        "*   Number of features in the dataset and their types\n",
        "*   descriptive statistics for quantitative explanatory variables\n",
        "*   normalize data....if necessary and why\n",
        "*   class distribution\n",
        "*   choose cost function to train the deep learning models based on your analysis"
      ],
      "metadata": {
        "id": "aKuckj75-5kn"
      }
    },
    {
      "cell_type": "markdown",
      "source": [
        "# DEEP LEARNING MODELS\n",
        "\n",
        "That take into account the temporal structure of data, justify their architectures and expalin how you tuned the values for"
      ],
      "metadata": {
        "id": "KNeKDJuy_uQu"
      }
    },
    {
      "cell_type": "markdown",
      "source": [
        "## 1. Multi-layer perceptron"
      ],
      "metadata": {
        "id": "UdOMv3WQAD9o"
      }
    },
    {
      "cell_type": "markdown",
      "source": [
        "Architecture"
      ],
      "metadata": {
        "id": "qmtRgNzgAxnj"
      }
    },
    {
      "cell_type": "markdown",
      "source": [
        "Hyperparameter tuning"
      ],
      "metadata": {
        "id": "3K3mppaBA2SG"
      }
    },
    {
      "cell_type": "markdown",
      "source": [
        "Performance"
      ],
      "metadata": {
        "id": "ib39ZxpTBKmX"
      }
    },
    {
      "cell_type": "markdown",
      "source": [
        "## 2. 1-D Convolutional neural network"
      ],
      "metadata": {
        "id": "TBBG35E9ANtu"
      }
    },
    {
      "cell_type": "markdown",
      "source": [
        "Architecture"
      ],
      "metadata": {
        "id": "4yptChmVA-Ut"
      }
    },
    {
      "cell_type": "markdown",
      "source": [
        "Hyperparamater tuning"
      ],
      "metadata": {
        "id": "-zy9BHyzBAL7"
      }
    },
    {
      "cell_type": "markdown",
      "source": [
        "Performance"
      ],
      "metadata": {
        "id": "efCvQzAdBMb8"
      }
    },
    {
      "cell_type": "markdown",
      "source": [
        "## 3. Recurrent neural networks"
      ],
      "metadata": {
        "id": "cf2fxeSFAX42"
      }
    },
    {
      "cell_type": "markdown",
      "source": [
        "Architecture"
      ],
      "metadata": {
        "id": "bzVxVWv4BCfO"
      }
    },
    {
      "cell_type": "markdown",
      "source": [
        "Hyperparameter tuning"
      ],
      "metadata": {
        "id": "UOTZMMB1BD_W"
      }
    },
    {
      "cell_type": "markdown",
      "source": [
        "Performance"
      ],
      "metadata": {
        "id": "Xab422SjBPSH"
      }
    },
    {
      "cell_type": "markdown",
      "source": [
        "# 4. CONCLUSION\n",
        "\n",
        "Comapre the model performance...expalin how you evaluated the performance to ensure a fair comparison"
      ],
      "metadata": {
        "id": "UpCJe8f0BUO_"
      }
    },
    {
      "cell_type": "markdown",
      "source": [
        "# 5. REFERENCES"
      ],
      "metadata": {
        "id": "BERD7oA3ByWT"
      }
    }
  ]
}